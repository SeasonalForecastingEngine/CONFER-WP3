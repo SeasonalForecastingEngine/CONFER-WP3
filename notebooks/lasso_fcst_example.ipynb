{
 "cells": [
  {
   "cell_type": "code",
   "execution_count": 1,
   "id": "c0b1df71",
   "metadata": {},
   "outputs": [],
   "source": [
    "import pandas as pd               # library for data frames; includes useful functions for date arithmetic\n",
    "import xarray as xr               # library for arrays, especially tailored to weather data\n",
    "from warnings import simplefilter\n",
    "\n",
    "from os import path\n",
    "from confer_wp3.dataloading import load_raw_data, save_anomalies, save_eofs_pcs, save_model_results\n",
    "from confer_wp3.lasso_forecast import calculate_anomalies, quantile_mapping, compute_eofs_pcs, get_all_indices, get_ml_results, calculate_tercile_probability_forecasts\n",
    "from confer_wp3.plotting import plot_fields_simple\n",
    "\n",
    "simplefilter(\"ignore\", category=RuntimeWarning)"
   ]
  },
  {
   "cell_type": "markdown",
   "id": "4e44c795",
   "metadata": {},
   "source": [
    "The following variables specify the paths where the forecast and observation data are stored, and the paths where the various calculations get stored."
   ]
  },
  {
   "cell_type": "code",
   "execution_count": 2,
   "id": "42d880ea",
   "metadata": {},
   "outputs": [],
   "source": [
    "era5_dir = '/nr/samba/PostClimDataNoBackup/CONFER/EASP/raw_predictors/'\n",
    "chirps_dir = '/nr/samba/PostClimDataNoBackup/CONFER/EASP/precip/chirps/'\n",
    "# indices_dir = '/home/michael/nr/samba/PostClimDataNoBackup/CONFER/EASP/fls/predictors/'\n",
    "# anomaly_dir = '/nr/samba/PostClimDataNoBackup/CONFER/EASP/precip/chirps/seasonal/halfdeg_res/'\n",
    "# eof_dir = '/home/michael/nr/samba/PostClimDataNoBackup/CONFER/EASP/eofs/chirps/halfdeg_res/'\n",
    "# fcst_dir = '/home/michael/nr/samba/PostClimDataNoBackup/CONFER/EASP/fls_pred/chirps/seasonal/halfdeg_res/'\n",
    "\n",
    "anomaly_dir = \"/nr/samba/user/ahellevik/CONFER-WP3/validation_data/anomalies/\"\n",
    "eof_dir = \"/nr/samba/user/ahellevik/CONFER-WP3/validation_data/eofs_pcs/\"\n",
    "indices_dir = \"/nr/samba/user/ahellevik/CONFER-WP3/validation_data/indices/\"\n",
    "ml_dir = \"/nr/samba/user/ahellevik/CONFER-WP3/validation_data/ml_data/\""
   ]
  },
  {
   "cell_type": "markdown",
   "id": "f09afc40",
   "metadata": {},
   "source": [
    "Now, we set a number of parameters defining our forecast domain, training period, forecast year, etc.:"
   ]
  },
  {
   "cell_type": "code",
   "execution_count": 3,
   "id": "b6e90cba",
   "metadata": {},
   "outputs": [],
   "source": [
    "year_clm_start = 1993     # first year of the climatological reference period\n",
    "year_clm_end = 2020       # last year of the climatological reference period\n",
    "\n",
    "year_train_start = 1981   # first year of the training period\n",
    "year_train_end = 2020     # last year of the training period\n",
    "\n",
    "year_fcst = 2020          # year in which forecasts should be generated\n",
    "month_init = 8            # month in which the forecast should be generated (based on data of the preceding month)\n",
    "season = 'OND'\n",
    "\n",
    "lon_bnds = [20, 53]       # longitude range of the domain of interest\n",
    "lat_bnds = [-15, 23]      # latitude range of the domain of interest\n",
    "\n",
    "period_clm = [year_clm_start, year_clm_end]\n",
    "period_train = [year_train_start, year_train_end]\n",
    "\n",
    "\n",
    "\n",
    "### Needed?\n",
    "n_eofs = 7 # Number of EOFs to compute"
   ]
  },
  {
   "cell_type": "markdown",
   "id": "e45ebbcb",
   "metadata": {},
   "source": [
    "### CHIRPS Data"
   ]
  },
  {
   "cell_type": "markdown",
   "id": "a9d43a1c",
   "metadata": {},
   "source": [
    "If not already available, load CHIRPS data, calculate seasonal precipitation anomalies, EOFs, and factor loadings, and save out. Otherwise, load anomalies, EOFs and factor loadings."
   ]
  },
  {
   "cell_type": "markdown",
   "id": "d2798304",
   "metadata": {},
   "source": [
    "##### Loading data"
   ]
  },
  {
   "cell_type": "code",
   "execution_count": 4,
   "id": "34ac4018",
   "metadata": {},
   "outputs": [],
   "source": [
    "# Load data\n",
    "year, lat, lon, prec_data = load_raw_data(chirps_dir, \"chirps\", [*range(year_train_start, year_train_end+1)], season, lat_bnds, lon_bnds) # 1993, 2021"
   ]
  },
  {
   "cell_type": "markdown",
   "id": "bfa53666",
   "metadata": {},
   "source": [
    "##### Get anomalies and normalized anomalies"
   ]
  },
  {
   "cell_type": "code",
   "execution_count": 5,
   "id": "b2366b15",
   "metadata": {},
   "outputs": [],
   "source": [
    "# Get anomalies\n",
    "if not path.exists(f'{anomaly_dir}chirps_anomalies_{season}.nc'):\n",
    "    # Calculate anomalies\n",
    "    anomalies = calculate_anomalies(prec_data, year, period_clm)\n",
    "    # Save anomalies\n",
    "    save_anomalies(anomalies, year, lat, lon, anomaly_dir, season, normalized=False)\n",
    "else:\n",
    "    anomalies = xr.open_dataarray(f'{anomaly_dir}chirps_anomalies_{season}.nc', engine='netcdf4')\n",
    "    anomalies = anomalies.values"
   ]
  },
  {
   "cell_type": "code",
   "execution_count": 6,
   "id": "83ac5666",
   "metadata": {},
   "outputs": [],
   "source": [
    "# Get normalized anomalies\n",
    "if not path.exists(f'{anomaly_dir}chirps_anomalies_normal_{season}.nc'):\n",
    "    # Apply the transformation to the anomalies data\n",
    "    anomalies_normal = quantile_mapping(anomalies, year, period_clm)\n",
    "    # Save normalized anomalies\n",
    "    save_anomalies(anomalies_normal, year, lat, lon, anomaly_dir, season, normalized=True)\n",
    "else:\n",
    "    anomalies_normal = xr.open_dataarray(f'{anomaly_dir}chirps_anomalies_normal_{season}.nc', engine='netcdf4')\n",
    "    anomalies_normal = anomalies_normal.values"
   ]
  },
  {
   "cell_type": "markdown",
   "id": "9bf0acc0",
   "metadata": {},
   "source": [
    "##### Get EOFs and factor loadings"
   ]
  },
  {
   "cell_type": "code",
   "execution_count": 7,
   "id": "898a9940",
   "metadata": {},
   "outputs": [],
   "source": [
    "# Get EOFs, PCs and variance fractions\n",
    "if not path.exists(f'{eof_dir}chirps_eofs_{season}.nc'):\n",
    "    # Calculate EOFs\n",
    "    n_eofs = 7  # Number of EOFs to compute\n",
    "    eofs, pcs, var_fracs = compute_eofs_pcs(anomalies_normal, n_eofs)\n",
    "    # Reshape EOFs to 3D (n_eofs, lat, lon)\n",
    "    eofs_reshaped = eofs.reshape((n_eofs, len(lat), len(lon)))\n",
    "    # Save EOFs, PCs and variance fractions\n",
    "    save_eofs_pcs(eofs_reshaped, pcs, var_fracs, year, lat, lon, eof_dir, season)\n",
    "else:\n",
    "    eofs_reshaped = xr.open_dataarray(f'{eof_dir}chirps_eofs_{season}.nc', engine='netcdf4').values\n",
    "    pcs = xr.open_dataarray(f'{eof_dir}chirps_pcs_{season}.nc', engine='netcdf4').values\n",
    "    var_fracs = xr.open_dataarray(f'{eof_dir}chirps_var_fracs_{season}.nc', engine='netcdf4').values"
   ]
  },
  {
   "cell_type": "markdown",
   "id": "a655ea40",
   "metadata": {},
   "source": [
    "### ERA5 Data"
   ]
  },
  {
   "cell_type": "markdown",
   "id": "f7190f70",
   "metadata": {},
   "source": [
    "If not already available, load ERA5 data, calculate indices, and save out. Otherwise, load indices."
   ]
  },
  {
   "cell_type": "markdown",
   "id": "9ec91ca0",
   "metadata": {},
   "source": [
    "##### Get ERA5 indices"
   ]
  },
  {
   "cell_type": "code",
   "execution_count": 8,
   "id": "9f581383",
   "metadata": {},
   "outputs": [
    {
     "name": "stdout",
     "output_type": "stream",
     "text": [
      "Data loaded from /nr/samba/user/ahellevik/CONFER-WP3/validation_data/indices/era5_indices.nc\n"
     ]
    }
   ],
   "source": [
    "# Get era5 indices\n",
    "# Define the file path\n",
    "era5_indices_path = f'{indices_dir}era5_indices.nc'\n",
    "# Shared between all indices\n",
    "months = list(range(1, 13))\n",
    "\n",
    "if not path.exists(era5_indices_path):\n",
    "    # Load needed data\n",
    "    load_years = [i for i in range(min(year_train_start, year_clm_start), max(year_train_end+1, year_clm_end+1))]\n",
    "    # Load sst data\n",
    "    sst_data = load_raw_data(era5_dir, \"sst\", load_years, season)\n",
    "    # Load uwind200 data\n",
    "    uwind200_data = load_raw_data(era5_dir, \"uwind200\", load_years, season)\n",
    "    # Load uwind850 data\n",
    "    uwind850_data = load_raw_data(era5_dir, \"uwind850\", load_years, season)\n",
    "\n",
    "    # Calculate indices\n",
    "    era5_indices = get_all_indices(sst_data, uwind200_data, uwind850_data, period_clm, period_train, months)\n",
    "    # Save indices\n",
    "    # Convert DataFrame to xarray Dataset for saving\n",
    "    ds = era5_indices.set_index(['year', 'month']).to_xarray()\n",
    "\n",
    "    # Save the Dataset to a NetCDF file\n",
    "    print(\"Saving indices...\")\n",
    "    ds.to_netcdf(era5_indices_path)\n",
    "    print(f\"Data saved to {era5_indices_path}\")\n",
    "else:\n",
    "    # Load the NetCDF file into an xarray Dataset\n",
    "    ds_loaded = xr.open_dataset(era5_indices_path, engine='netcdf4')\n",
    "    print(f\"Data loaded from {era5_indices_path}\")\n",
    "\n",
    "    # Convert the xarray Dataset back to a DataFrame\n",
    "    era5_indices = ds_loaded.to_dataframe().reset_index()"
   ]
  },
  {
   "cell_type": "markdown",
   "id": "40f7d454",
   "metadata": {},
   "source": [
    "### ML model"
   ]
  },
  {
   "cell_type": "markdown",
   "id": "db2ffa8f",
   "metadata": {},
   "source": [
    "##### Get ML model data"
   ]
  },
  {
   "cell_type": "code",
   "execution_count": 9,
   "id": "a7b32637",
   "metadata": {},
   "outputs": [],
   "source": [
    "feature_names = ['n34','dmi','wvg','wsp','wpg','wp','wnp','n34_diff1','dmi_diff1','ueq850','ueq200','sji850','sji200']\n",
    "\n",
    "# Get model coefficients and covariances, or train model\n",
    "if not path.exists(f'{ml_dir}model_coefficients_{season}.nc'):\n",
    "    df_coefficients, df_fl_pred_cov = get_ml_results(era5_indices, feature_names, pcs, var_fracs, n_eofs, period_train, period_clm, month_init)\n",
    "    save_model_results(df_coefficients, df_fl_pred_cov, ml_dir, season)\n",
    "else:\n",
    "    df_coefficients = xr.load_dataset(f'{ml_dir}model_coefficients_{season}.nc').to_dataframe()\n",
    "    \n",
    "    cov_ds = xr.load_dataset(f'{ml_dir}prediction_covariances_{season}.nc')\n",
    "    cov_array = cov_ds.covariance.values\n",
    "    years = cov_ds.year.values\n",
    "    n_eofs = cov_array.shape[1]\n",
    "    \n",
    "    # Reconstruct df_fl_pred_cov\n",
    "    df_fl_pred_cov = pd.DataFrame(\n",
    "        index=years,\n",
    "        columns=[f'cov-{i}{j}' for i in range(1, n_eofs + 1) for j in range(1, n_eofs + 1)],\n",
    "        data=cov_array.reshape(len(years), -1)\n",
    "    )"
   ]
  },
  {
   "cell_type": "markdown",
   "id": "3cf5612d",
   "metadata": {},
   "source": [
    "### Forecast"
   ]
  },
  {
   "cell_type": "markdown",
   "id": "c7a9c8d9",
   "metadata": {},
   "source": [
    "Make a forecast for the specified year and season"
   ]
  },
  {
   "cell_type": "code",
   "execution_count": 10,
   "id": "03b67b08",
   "metadata": {},
   "outputs": [
    {
     "data": {
      "image/png": "[encoded data removed]",
      "text/plain": [
       "<Figure size 1500x500 with 4 Axes>"
      ]
     },
     "metadata": {},
     "output_type": "display_data"
    }
   ],
   "source": [
    "# Get tercile probability forecasts\n",
    "prob_bn, prob_an = calculate_tercile_probability_forecasts(era5_indices, anomalies_normal, eofs_reshaped, df_coefficients, df_fl_pred_cov, var_fracs, feature_names, year, period_clm, n_eofs, year_fcst, month_init)\n",
    "\n",
    "# Plot the probabilities\n",
    "plot_fields_simple(fields=[prob_bn, prob_an],\n",
    "            titles=['Below Normal', 'Above Normal'],\n",
    "            cmap=['Oranges', 'Greens'],\n",
    "            unit='Probability',\n",
    "            lat = lat,\n",
    "            lon = lon,\n",
    "            season=season,\n",
    "            year=year_fcst)\n",
    "\n"
   ]
  }
 ],
 "metadata": {
  "kernelspec": {
   "display_name": "Python (confer-wp3-env)",
   "language": "python",
   "name": "confer-wp3-env"
  },
  "language_info": {
   "codemirror_mode": {
    "name": "ipython",
    "version": 3
   },
   "file_extension": ".py",
   "mimetype": "text/x-python",
   "name": "python",
   "nbconvert_exporter": "python",
   "pygments_lexer": "ipython3",
   "version": "3.10.12"
  }
 },
 "nbformat": 4,
 "nbformat_minor": 5
}
