{
 "cells": [
  {
   "cell_type": "markdown",
   "metadata": {},
   "source": [
    "Notebooks with examples on how to use your package are often included in a \"notebooks\" directory of the repository. The advantage of notebooks is that you can combine Markdown with code. Moreover, when a cell in a notebook has been run, the outputs of the cell will remain. This means that when the notebook is pushed to git, the reader can see the results of the code examples. "
   ]
  }
 ],
 "metadata": {
  "language_info": {
   "name": "python"
  }
 },
 "nbformat": 4,
 "nbformat_minor": 2
}
