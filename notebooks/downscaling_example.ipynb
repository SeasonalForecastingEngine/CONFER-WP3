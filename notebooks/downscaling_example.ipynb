{
 "cells": [
  {
   "cell_type": "code",
   "execution_count": 1,
   "id": "c0b1df71",
   "metadata": {},
   "outputs": [],
   "source": [
    "import numpy as np                # library for mathematical operations with arrays\n",
    "import pandas as pd               # library for data frames; includes useful functions for date arithmetic\n",
    "import xarray as xr               # library for arrays, especially tailored to weather data\n",
    "import matplotlib.pyplot as plt   # library for basic plotting\n",
    "import datetime                   # library for date manipulation\n",
    "\n",
    "from os import path\n",
    "from confer_wp3.plotting import plot_fields                        # function for visualizing spatial data in a map\n",
    "from confer_wp3.plotting import get_nearest_grid_index             # helper function to find the grid indices for a selected location\n",
    "from confer_wp3.downscaling import calculate_target_percentiles    # function for calculating the percentiles of the target data climatology\n",
    "from confer_wp3.downscaling import calculate_forecast_percentiles  # function for calculating the percentiles of the forecast climatology\n",
    "from confer_wp3.downscaling import downscale_forecasts             # function for performing the downscaling\n",
    "from confer_wp3.utils import load_and_interpolate_forecast         # function to load and interpolate the (raw) ensemble forecasts"
   ]
  },
  {
   "cell_type": "markdown",
   "id": "4e44c795",
   "metadata": {},
   "source": [
    "The following variables specify the paths where the forecast and observation data are stored:"
   ]
  },
  {
   "cell_type": "code",
   "execution_count": 2,
   "id": "42d880ea",
   "metadata": {},
   "outputs": [],
   "source": [
    "fcst_dir = '/home/confer/michael/Data/Forecasts_daily_grib/'\n",
    "chirps_dir = '/home/confer/michael/Data/CHIRPS_pentad/'\n",
    "imerg_dir = '/home/confer/michael/Data/IMERG_pentad/'\n",
    "percentile_dir = '/home/confer/michael/Data/Percentiles/'\n",
    "output_dir = '/home/confer/michael/Data/Forecasts_downscaled/'\n",
    "\n",
    "#fcst_dir = '/nr/samba/PostClimDataNoBackup/CONFER/Data/Systems_daily_grib/'\n",
    "#chirps_dir = '/nr/samba/PostClimDataNoBackup/CONFER/Data/CHIRPS_pentad_nc/'\n",
    "#imerg_dir = '/nr/samba/PostClimDataNoBackup/CONFER/Data/IMERG_pentad_nc/'\n",
    "#percentile_dir = '/nr/samba/PostClimDataNoBackup/CONFER/Data/Output/'\n",
    "#output_dir = '/nr/samba/PostClimDataNoBackup/CONFER/Data/Output/'"
   ]
  },
  {
   "cell_type": "markdown",
   "id": "f09afc40",
   "metadata": {},
   "source": [
    "Now, we set a number of parameters defining our forecast domain, training period, forecast year, etc.:"
   ]
  },
  {
   "cell_type": "code",
   "execution_count": 3,
   "id": "b6e90cba",
   "metadata": {},
   "outputs": [],
   "source": [
    "year_train_start = 2000   # first year for which we have forecast and observation data for estimating percentiles\n",
    "year_train_end = 2021     # last year for which we have forecast and observation data for estimating percentiles\n",
    "year_fcst = 2023          # year for which the bias-corrected forecasts should be generated\n",
    "\n",
    "month_init = 'may'        # forecast initialization month\n",
    "\n",
    "lon_bnds = [20, 53]       # longitude range of the domain of interest\n",
    "lat_bnds = [-15, 23]      # latitude range of the domain of interest\n",
    "\n",
    "system = 'ecmwf'          # forecast system to be bias-corrected\n",
    "target = 'chirps'         # data set against which the forecasts should be bias-corrected\n",
    "\n",
    "target_dir = {'chirps':chirps_dir, 'imerg':imerg_dir}[target]"
   ]
  },
  {
   "cell_type": "markdown",
   "id": "35d06cd9",
   "metadata": {},
   "source": [
    "If not already available, load ground truth data for training period, aggregate to pentads, and calculate percentiles of the associated climatology:"
   ]
  },
  {
   "cell_type": "code",
   "execution_count": 4,
   "id": "5bbdc72f",
   "metadata": {},
   "outputs": [
    {
     "name": "stderr",
     "output_type": "stream",
     "text": [
      "/nr/samba/user/scheuerer/CONFER-WP3/.venv/lib/python3.10/site-packages/gribapi/__init__.py:23: UserWarning: ecCodes 2.31.0 or higher is recommended. You are running version 2.24.2\n",
      "  warnings.warn(\n"
     ]
    }
   ],
   "source": [
    "filename_pct_target = f'{percentile_dir}percentiles_{target}_{year_train_start}_{year_train_end}.nc'\n",
    "\n",
    "if not path.exists(filename_pct_target):\n",
    "    calculate_target_percentiles(target, year_train_start, year_train_end, lon_bnds, lat_bnds, target_dir, filename_pct_target)\n",
    "\n",
    "data_load = xr.open_dataset(filename_pct_target, engine='netcdf4')\n",
    "lon_target = data_load.lon.values\n",
    "lat_target = data_load.lat.values\n",
    "pctl_target = data_load.percentile.values\n",
    "data_load.close()\n",
    "\n",
    "nlon = len(lon_target)\n",
    "nlat = len(lat_target)"
   ]
  },
  {
   "cell_type": "markdown",
   "id": "f7190f70",
   "metadata": {},
   "source": [
    "If not already available, load forecast data for training period, aggregate to pentads, and calculate percentiles of the associated climatology:"
   ]
  },
  {
   "cell_type": "code",
   "execution_count": 5,
   "id": "1a1b73e8",
   "metadata": {},
   "outputs": [],
   "source": [
    "res = {'chirps':'p25', 'imerg':'p1'}[target]  # horizontal resolution of the target data set (used for filename)\n",
    "\n",
    "filename_pct_fcst = f'{percentile_dir}percentiles_{system}_{res}_{month_init}_{year_train_start}_{year_train_end}.nc'\n",
    "\n",
    "if not path.exists(filename_pct_fcst):\n",
    "    calculate_forecast_percentiles(system, target, year_train_start, year_train_end, month_init, lon_target, lat_target, fcst_dir, filename_pct_fcst)\n",
    "\n",
    "data_load = xr.open_dataset(filename_pct_fcst, engine='netcdf4')\n",
    "pctl_fcst = data_load.percentile.values\n",
    "data_load.close()"
   ]
  },
  {
   "cell_type": "markdown",
   "id": "a47ca337",
   "metadata": {},
   "source": [
    "Select a pentad (relative to the forecast initialization time) and a percentile level, and plot the respective climatological percentiles:"
   ]
  },
  {
   "cell_type": "code",
   "execution_count": 6,
   "id": "40cf4aa0",
   "metadata": {},
   "outputs": [],
   "source": [
    "ipct = 85                                # percentile level (integer between 1 and 99)\n",
    "ipt = 21                                 # number of pentads after forecast initialization dates\n",
    "\n",
    "month_names = {1:'jan', 2:'feb', 3:'mar', 4:'apr', 5:'may', 6:'jun', 7:'jul', 8:'aug', 9:'sep', 10:'oct', 11:'nov', 12:'dec'}\n",
    "\n",
    "month_init_int = [i for i in range(1,13) if month_names[i]==month_init][0]\n",
    "jpt = (6*(month_init_int-1)+ipt) % 72    # corresponding number of pentads after January 1\n",
    "\n",
    "month_valid_int = jpt//6 + 1\n",
    "month_valid_str = month_names[month_valid_int].capitalize()\n",
    "\n",
    "dd_pentad_start = 5*(jpt-6*(month_valid_int-1)) + 1\n",
    "dd_pentad_end = 5*(jpt-6*(month_valid_int-1)) + 5\n",
    "\n",
    "#plot_fields (fields_list = [pctl_fcst[ipt,ipct-1,:,:],pctl_target[jpt,ipct-1,:,:]],\n",
    "#          lon = lon_target,\n",
    "#          lat = lat_target,\n",
    "#          lon_bounds = [22, 52],\n",
    "#          lat_bounds = [-12, 19],\n",
    "#          main_title = f'Climatological {ipct}th percentile of rainfall accumulation for {month_valid_str} {dd_pentad_start}-{dd_pentad_end}',\n",
    "#          subtitle_list = [f'{system.upper()} forecast system',f'{target.upper()} observation product'],\n",
    "#          vmin = 0,\n",
    "#          vmax = 20,\n",
    "#          unit = 'mm')"
   ]
  },
  {
   "cell_type": "markdown",
   "id": "6ee79227",
   "metadata": {},
   "source": [
    "As a further sanity check, we pick a particular location and look at the cumulative distribution functions (CDFs) of the forecast and target climatology, represented via the 1st through 99th percentile. Note that the CDFs are specific to time of the year, i.e. they will change based on the pentad selected above. "
   ]
  },
  {
   "cell_type": "code",
   "execution_count": 7,
   "id": "7badc2fd",
   "metadata": {},
   "outputs": [
    {
     "data": {
      "text/plain": [
       "Text(0.5, 1.0, 'Climatological CDFs at Upper Tana basin (Aug 16-20)')"
      ]
     },
     "execution_count": 7,
     "metadata": {},
     "output_type": "execute_result"
    },
    {
     "data": {
      "image/png": "[encoded data removed]",
      "text/plain": [
       "<Figure size 800x550 with 1 Axes>"
      ]
     },
     "metadata": {},
     "output_type": "display_data"
    }
   ],
   "source": [
    "lon_exmpl = 37.25                 # longitude of example location\n",
    "lat_exmpl = -0.75                 # latitude of example location\n",
    "name_exmpl = 'Upper Tana basin'   # name of the selected location\n",
    "\n",
    "ix, iy = get_nearest_grid_index(lon_exmpl, lat_exmpl, lon_target, lat_target)\n",
    "\n",
    "pct_level = np.arange(1,100)\n",
    "\n",
    "plt.figure(figsize=(8,5.5))\n",
    "ax = plt.subplot(1, 1, 1)\n",
    "ax.plot(pctl_fcst[ipt,:,iy,ix], pct_level/100, color='darkblue', label='forecast CDF')\n",
    "ax.plot(pctl_target[jpt,:,iy,ix], pct_level/100, color='orange', label='observation CDF')\n",
    "ax.set_xticks([*range(0,26,5)])\n",
    "ax.set_xticklabels([f'{i}mm' for i in range(0,26,5)], fontsize=12)\n",
    "ax.set_xlabel('5-day rainfall accumulation', fontsize=12)\n",
    "ax.set_ylabel('probability', fontsize=12)\n",
    "ax.legend(loc='lower right', fontsize=14)\n",
    "ax.set_title(f'Climatological CDFs at {name_exmpl} ({month_valid_str} {dd_pentad_start}-{dd_pentad_end})', fontsize=16)"
   ]
  },
  {
   "cell_type": "markdown",
   "id": "f3298d8f",
   "metadata": {},
   "source": [
    "If everything looks reasonable, we can use these percentiles to bias-correct the forecast from the selected year."
   ]
  },
  {
   "cell_type": "code",
   "execution_count": 8,
   "id": "d78dc25e",
   "metadata": {
    "scrolled": true
   },
   "outputs": [
    {
     "name": "stdout",
     "output_type": "stream",
     "text": [
      "Loading and interpolating forecast data ...\n",
      "Processing pentad 1/42 ...\n",
      "Processing pentad 11/42 ...\n",
      "Processing pentad 21/42 ...\n",
      "Processing pentad 31/42 ...\n",
      "Processing pentad 41/42 ...\n",
      "Output saved as '/nr/samba/PostClimDataNoBackup/CONFER/Data/Output/forecast_ecmwf_dwnsc_chirps_may_2023.nc'.\n"
     ]
    }
   ],
   "source": [
    "filename_precip_dwnsc = f'{output_dir}forecast_{system}_dwnsc_{target}_{month_init}_{year_fcst}.nc'\n",
    "\n",
    "if not path.exists(filename_precip_dwnsc):\n",
    "    downscale_forecasts(system, year_fcst, month_init, pctl_fcst, pctl_target, lon_target, lat_target, fcst_dir, filename_precip_dwnsc)\n",
    "\n",
    "data_load = xr.open_dataset(filename_precip_dwnsc, engine='netcdf4')\n",
    "precip_dwnsc = data_load.precip.values\n",
    "data_load.close()"
   ]
  },
  {
   "cell_type": "markdown",
   "id": "a8521309",
   "metadata": {},
   "source": [
    "For comparison, we load and interpolate the raw ensemble forecasts..."
   ]
  },
  {
   "cell_type": "code",
   "execution_count": 10,
   "id": "37127e2c",
   "metadata": {},
   "outputs": [
    {
     "name": "stdout",
     "output_type": "stream",
     "text": [
      "Loading and interpolating forecast data ...\n"
     ]
    }
   ],
   "source": [
    "precip_fcst = load_and_interpolate_forecast(system, year_fcst, month_init, lon_target, lat_target, fcst_dir)"
   ]
  },
  {
   "cell_type": "markdown",
   "id": "76439371",
   "metadata": {},
   "source": [
    "... which we can then plot along with the bias-corrected forecast for a given lead time and ensemble member."
   ]
  },
  {
   "cell_type": "code",
   "execution_count": 11,
   "id": "89258816",
   "metadata": {},
   "outputs": [
    {
     "ename": "",
     "evalue": "",
     "output_type": "error",
     "traceback": [
      "\u001b[1;31mThe Kernel crashed while executing code in the current cell or a previous cell. \n",
      "\u001b[1;31mPlease review the code in the cell(s) to identify a possible cause of the failure. \n",
      "\u001b[1;31mClick <a href='https://aka.ms/vscodeJupyterKernelCrash'>here</a> for more info. \n",
      "\u001b[1;31mView Jupyter <a href='command:jupyter.viewOutput'>log</a> for further details."
     ]
    }
   ],
   "source": [
    "ilt = 10       # forecast lead time in days\n",
    "imb = 21       # ensemble member\n",
    "\n",
    "month_init_int = [i for i in range(1,13) if month_names[i]==month_init][0]\n",
    "\n",
    "date_valid =  datetime.date(year_fcst, month_init_int, 1) + datetime.timedelta(days=ilt-1)\n",
    "\n",
    "plot_fields (fields_list = [precip_fcst[imb,ilt-1,:,:],precip_dwnsc[imb,ilt-1,:,:]],\n",
    "          lon = lon_target,\n",
    "          lat = lat_target,\n",
    "          lon_bounds = lon_bnds,\n",
    "          lat_bounds = lat_bnds,\n",
    "          main_title = f'{system.upper()} member {imb} forecast of precipitation amount on {date_valid}',\n",
    "          subtitle_list = ['interpolated forecast',f'downscaled forecast (against {target.upper()} data)'],\n",
    "          vmin = 0,\n",
    "          vmax = 30,\n",
    "          unit = 'mm')"
   ]
  },
  {
   "cell_type": "code",
   "execution_count": null,
   "id": "d11d754b",
   "metadata": {},
   "outputs": [],
   "source": []
  }
 ],
 "metadata": {
  "kernelspec": {
   "display_name": "Python 3 (ipykernel)",
   "language": "python",
   "name": "python3"
  },
  "language_info": {
   "codemirror_mode": {
    "name": "ipython",
    "version": 3
   },
   "file_extension": ".py",
   "mimetype": "text/x-python",
   "name": "python",
   "nbconvert_exporter": "python",
   "pygments_lexer": "ipython3",
   "version": "3.8.10"
  }
 },
 "nbformat": 4,
 "nbformat_minor": 5
}
